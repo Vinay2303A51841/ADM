{
  "nbformat": 4,
  "nbformat_minor": 0,
  "metadata": {
    "colab": {
      "provenance": [],
      "authorship_tag": "ABX9TyOiSXx/v4mkgvw73Xp0hMPu",
      "include_colab_link": true
    },
    "kernelspec": {
      "name": "python3",
      "display_name": "Python 3"
    },
    "language_info": {
      "name": "python"
    }
  },
  "cells": [
    {
      "cell_type": "markdown",
      "metadata": {
        "id": "view-in-github",
        "colab_type": "text"
      },
      "source": [
        "<a href=\"https://colab.research.google.com/github/2303A51844/ADM/blob/main/ASS1.ipynb\" target=\"_parent\"><img src=\"https://colab.research.google.com/assets/colab-badge.svg\" alt=\"Open In Colab\"/></a>"
      ]
    },
    {
      "source": [
        "#1Q(showing the dataset)\n",
        "import pandas as pd\n",
        "df = pd.read_csv('/content/diabetes.csv' )\n",
        "print(df)\n"
      ],
      "cell_type": "code",
      "metadata": {
        "colab": {
          "base_uri": "https://localhost:8080/"
        },
        "id": "m44lgrdqgGLL",
        "outputId": "0fddfdfc-5abf-40f0-911b-f3a3882396ba"
      },
      "execution_count": null,
      "outputs": [
        {
          "output_type": "stream",
          "name": "stdout",
          "text": [
            "     Pregnancies  Glucose  BloodPressure  SkinThickness  Insulin   BMI  \\\n",
            "0              6      148             72             35        0  33.6   \n",
            "1              1       85             66             29        0  26.6   \n",
            "2              8      183             64              0        0  23.3   \n",
            "3              1       89             66             23       94  28.1   \n",
            "4              0      137             40             35      168  43.1   \n",
            "..           ...      ...            ...            ...      ...   ...   \n",
            "763           10      101             76             48      180  32.9   \n",
            "764            2      122             70             27        0  36.8   \n",
            "765            5      121             72             23      112  26.2   \n",
            "766            1      126             60              0        0  30.1   \n",
            "767            1       93             70             31        0  30.4   \n",
            "\n",
            "     DiabetesPedigreeFunction  Age  Outcome  \n",
            "0                       0.627   50        1  \n",
            "1                       0.351   31        0  \n",
            "2                       0.672   32        1  \n",
            "3                       0.167   21        0  \n",
            "4                       2.288   33        1  \n",
            "..                        ...  ...      ...  \n",
            "763                     0.171   63        0  \n",
            "764                     0.340   27        0  \n",
            "765                     0.245   30        0  \n",
            "766                     0.349   47        1  \n",
            "767                     0.315   23        0  \n",
            "\n",
            "[768 rows x 9 columns]\n"
          ]
        }
      ]
    },
    {
      "cell_type": "code",
      "source": [
        "#2Q handling missing values\n",
        "columns_with_zeros = ['Glucose', 'BloodPressure', 'SkinThickness']\n",
        "data[columns_with_zeros] = data[columns_with_zeros].replace(0, pd.NA)\n"
      ],
      "metadata": {
        "id": "4Lkr28Aji_3s"
      },
      "execution_count": null,
      "outputs": []
    },
    {
      "cell_type": "code",
      "source": [
        "# Impute missing values\n",
        "imputation_method = 'mean'\n",
        "for col in data.columns:\n",
        "    if data[col].isna().sum() > 0:\n",
        "        if imputation_method == 'mean':\n",
        "            data[col].fillna(data[col].mean(), inplace=True)\n",
        "        elif imputation_method == 'median':\n",
        "            data[col].fillna(data[col].median(), inplace=True)\n",
        "        elif imputation_method == 'mode':\n",
        "            data[col].fillna(data[col].mode()[0], inplace=True)\n"
      ],
      "metadata": {
        "id": "dxSLnYJ5obAG"
      },
      "execution_count": null,
      "outputs": []
    },
    {
      "cell_type": "code",
      "source": [
        "print(\"\\nDataset After Handling Missing Values:\")\n",
        "print(data.head())\n"
      ],
      "metadata": {
        "colab": {
          "base_uri": "https://localhost:8080/"
        },
        "id": "jgDltwA3qmqj",
        "outputId": "47156487-9be4-470d-eb0e-da0e2e4e593f"
      },
      "execution_count": null,
      "outputs": [
        {
          "output_type": "stream",
          "name": "stdout",
          "text": [
            "\n",
            "Dataset After Handling Missing Values:\n",
            "   Pregnancies  Glucose  BloodPressure  SkinThickness  Insulin   BMI  \\\n",
            "0            6    148.0           72.0       35.00000        0  33.6   \n",
            "1            1     85.0           66.0       29.00000        0  26.6   \n",
            "2            8    183.0           64.0       29.15342        0  23.3   \n",
            "3            1     89.0           66.0       23.00000       94  28.1   \n",
            "4            0    137.0           40.0       35.00000      168  43.1   \n",
            "\n",
            "   DiabetesPedigreeFunction  Age  Outcome  \n",
            "0                     0.627   50        1  \n",
            "1                     0.351   31        0  \n",
            "2                     0.672   32        1  \n",
            "3                     0.167   21        0  \n",
            "4                     2.288   33        1  \n"
          ]
        }
      ]
    },
    {
      "cell_type": "code",
      "source": [
        "# 3Q perform feature scaling (min-max standardization)\n",
        "scaling_method = 'min-max'\n",
        "if scaling_method == 'min-max':\n",
        "    scaler = MinMaxScaler()\n",
        "elif scaling_method == 'standard':\n",
        "    scaler = StandardScaler()"
      ],
      "metadata": {
        "id": "pwZ8VmTvsP61"
      },
      "execution_count": null,
      "outputs": []
    },
    {
      "cell_type": "code",
      "source": [
        "\n",
        "target_column = 'Outcome'  # Target variable\n",
        "features = data.drop(columns=[target_column]) if target_column in data.columns else data\n",
        "scaled_features = pd.DataFrame(scaler.fit_transform(features), columns=features.columns)\n"
      ],
      "metadata": {
        "id": "VEz-brZnp6HP"
      },
      "execution_count": null,
      "outputs": []
    },
    {
      "cell_type": "code",
      "source": [
        "if target_column in data.columns:\n",
        "    scaled_features[target_column] = data[target_column]"
      ],
      "metadata": {
        "id": "uLXTMK_hr7UD"
      },
      "execution_count": null,
      "outputs": []
    },
    {
      "cell_type": "code",
      "source": [
        "print(\"\\nProcessed Dataset After Scaling:\")\n",
        "print(scaled_features.head())"
      ],
      "metadata": {
        "colab": {
          "base_uri": "https://localhost:8080/"
        },
        "id": "O7suy5CkskPt",
        "outputId": "caaec912-4769-475a-8929-1cc0fbb1d0fc"
      },
      "execution_count": null,
      "outputs": [
        {
          "output_type": "stream",
          "name": "stdout",
          "text": [
            "\n",
            "Processed Dataset After Scaling:\n",
            "   Pregnancies   Glucose  BloodPressure  SkinThickness   Insulin       BMI  \\\n",
            "0     0.352941  0.670968       0.489796       0.304348  0.000000  0.500745   \n",
            "1     0.058824  0.264516       0.428571       0.239130  0.000000  0.396423   \n",
            "2     0.470588  0.896774       0.408163       0.240798  0.000000  0.347243   \n",
            "3     0.058824  0.290323       0.428571       0.173913  0.111111  0.418778   \n",
            "4     0.000000  0.600000       0.163265       0.304348  0.198582  0.642325   \n",
            "\n",
            "   DiabetesPedigreeFunction       Age  Outcome  \n",
            "0                  0.234415  0.483333        1  \n",
            "1                  0.116567  0.166667        0  \n",
            "2                  0.253629  0.183333        1  \n",
            "3                  0.038002  0.000000        0  \n",
            "4                  0.943638  0.200000        1  \n"
          ]
        }
      ]
    }
  ]
}